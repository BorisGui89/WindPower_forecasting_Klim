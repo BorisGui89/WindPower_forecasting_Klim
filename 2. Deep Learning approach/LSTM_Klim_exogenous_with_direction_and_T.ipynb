{
  "nbformat": 4,
  "nbformat_minor": 0,
  "metadata": {
    "colab": {
      "name": "LSTM_Klim_exogenous_with_direction_and_T",
      "provenance": [],
      "mount_file_id": "1g3J8XPzeyxSAemmcZE6s-l12PVHfagfY",
      "authorship_tag": "ABX9TyNLkiC/Cfd+44KU4laYj28r",
      "include_colab_link": true
    },
    "kernelspec": {
      "display_name": "Python 3",
      "name": "python3"
    },
    "language_info": {
      "name": "python"
    }
  },
  "cells": [
    {
      "cell_type": "markdown",
      "metadata": {
        "id": "view-in-github",
        "colab_type": "text"
      },
      "source": [
        "<a href=\"https://colab.research.google.com/github/s192624/WindPower_forecasting_Klim/blob/main/LSTM_Klim_exogenous_with_direction_and_T.ipynb\" target=\"_parent\"><img src=\"https://colab.research.google.com/assets/colab-badge.svg\" alt=\"Open In Colab\"/></a>"
      ]
    },
    {
      "cell_type": "markdown",
      "metadata": {
        "id": "emAUeLserWhf"
      },
      "source": [
        "**Forecast of power 3 hours ahead based on LSTM with knowledge of wind speed, wind direction and temperature - with use of 7 days slices**\n",
        "\n",
        "As a first step, an LSTM network is implemented considering only the power time series. The results can be compared with those of the AR(4) model fitted to the data in Matlab: 95% confidence intervals:\n",
        "\n",
        "*   1h ahead: [-3.17:3.17]\n",
        "*   2h ahead: [-4.73:4.73]\n",
        "*   3h ahead: [-5.76:5.76]\n",
        "\n",
        "And the LSTM network with slices:\n",
        "\n",
        "*   1h ahead: [-3.12:3.12]\n",
        "*   2h ahead: [-4.67:4.67]\n",
        "*   3h ahead: [-5.72:5.72]\n",
        "\n"
      ]
    },
    {
      "cell_type": "code",
      "metadata": {
        "id": "2P9gAZGSs4P5"
      },
      "source": [
        "import pandas as pd\n",
        "import numpy as np\n",
        "import matplotlib.pyplot as plt\n",
        "from scipy.stats import norm\n",
        "import statistics as stat\n",
        "from random import shuffle\n",
        "\n",
        "import torch\n",
        "import torch.optim as optim\n",
        "import torch.nn as nn\n",
        "from torch.autograd import Variable\n",
        "from torch.nn.functional import relu, elu, relu6, sigmoid, tanh, softmax\n",
        "from torch.nn.parameter import Parameter\n",
        "import torch.nn.init as init\n",
        "import torch.nn.functional as F"
      ],
      "execution_count": 33,
      "outputs": []
    },
    {
      "cell_type": "code",
      "metadata": {
        "id": "3w8xacq6sY78"
      },
      "source": [
        "# Load the data and extract colums\n",
        "file = '/content/drive/MyDrive/Colab Notebooks/Time series/LSTM_Klim/cex4WindDataInterpolated.csv'\n",
        "data = pd.read_csv(file)\n",
        "t = data.iloc[:,0].values\n",
        "p = data.iloc[:,2].values\n",
        "ws1 = data.iloc[:,3].values\n",
        "ws2 = data.iloc[:,6].values\n",
        "ws3 = data.iloc[:,9].values\n",
        "wd1 = data.iloc[:,4].values\n",
        "wd2 = data.iloc[:,7].values\n",
        "wd3 = data.iloc[:,10].values\n",
        "T1 = data.iloc[:,5].values\n",
        "T2 = data.iloc[:,8].values\n",
        "T3 = data.iloc[:,11].values"
      ],
      "execution_count": 34,
      "outputs": []
    },
    {
      "cell_type": "code",
      "metadata": {
        "id": "JyKfLbmroUv0"
      },
      "source": [
        "# Normalize the data except wind direction which will be one hot encoded\n",
        "p_mean = np.nanmean(p)\n",
        "p_std = np.nanstd(p)\n",
        "ws_mean = np.nanmean(ws1)\n",
        "ws_std = np.nanstd(ws1)\n",
        "T_mean = np.nanmean(T1)\n",
        "T_std = np.nanstd(T1)\n",
        "\n",
        "p = (p-p_mean)/p_std\n",
        "ws1 = (ws1-ws_mean)/ws_std\n",
        "ws2 = (ws2-ws_mean)/ws_std\n",
        "ws3 = (ws3-ws_mean)/ws_std\n",
        "T1 = (T1-T_mean)/T_std\n",
        "T2 = (T2-T_mean)/T_std\n",
        "T3 = (T3-T_mean)/T_std"
      ],
      "execution_count": 35,
      "outputs": []
    },
    {
      "cell_type": "code",
      "metadata": {
        "id": "BMnS5eeJI9U8"
      },
      "source": [
        "# Loop to keep sequences of valid power, wind speed and wind direction\n",
        "p_valid, ws1_valid, ws2_valid, ws3_valid, wd1_valid, wd2_valid, wd3_valid  = [],[],[],[],[],[],[]\n",
        "T1_valid, T2_valid, T3_valid = [],[],[]\n",
        "current_seq_p, current_seq_ws1, current_seq_ws2 , current_seq_ws3,  = [],[],[],[]\n",
        "current_seq_wd1, current_seq_wd2 , current_seq_wd3, current_seq_T1, current_seq_T2 , current_seq_T3 = [],[],[],[],[],[] \n",
        "\n",
        "nan = 1             # 1 if former value is nan\n",
        "\n",
        "for i in range(len(p)):\n",
        "\n",
        "  # Check if current value is nan\n",
        "  if np.isnan(p[i]) or np.isnan(ws1[i]) or np.isnan(wd1[i]) or np.isnan(T1[i]):\n",
        "    # If former value not nan, store former sequence and create a new one \n",
        "    if nan == 0:\n",
        "      p_valid.append(current_seq_p)\n",
        "      ws1_valid.append(current_seq_ws1)\n",
        "      ws2_valid.append(current_seq_ws2)\n",
        "      ws3_valid.append(current_seq_ws3)\n",
        "      wd1_valid.append(current_seq_wd1)\n",
        "      wd2_valid.append(current_seq_wd2)\n",
        "      wd3_valid.append(current_seq_wd3)\n",
        "      T1_valid.append(current_seq_T1)\n",
        "      T2_valid.append(current_seq_T2)\n",
        "      T3_valid.append(current_seq_T3)\n",
        "      current_seq_p, current_seq_ws1, current_seq_ws2 , current_seq_ws3,  = [],[],[],[]\n",
        "      current_seq_wd1, current_seq_wd2 , current_seq_wd3, current_seq_T1, current_seq_T2 , current_seq_T3 = [],[],[],[],[],[] \n",
        "    nan = 1\n",
        "\n",
        "  # Else, store the value and state it is not nan\n",
        "  else:\n",
        "    current_seq_p.append([p[i]])\n",
        "    current_seq_ws1.append([ws1[i]])\n",
        "    current_seq_ws2.append([ws2[i]])\n",
        "    current_seq_ws3.append([ws3[i]])\n",
        "    current_seq_wd1.append([wd1[i]])\n",
        "    current_seq_wd2.append([wd2[i]])\n",
        "    current_seq_wd3.append([wd3[i]])\n",
        "    current_seq_T1.append([T1[i]])\n",
        "    current_seq_T2.append([T2[i]])\n",
        "    current_seq_T3.append([T3[i]])\n",
        "    nan = 0\n",
        "\n",
        "p_valid.append(current_seq_p)\n",
        "ws1_valid.append(current_seq_ws1)\n",
        "ws2_valid.append(current_seq_ws2)\n",
        "ws3_valid.append(current_seq_ws3)\n",
        "wd1_valid.append(current_seq_wd1)\n",
        "wd2_valid.append(current_seq_wd2)\n",
        "wd3_valid.append(current_seq_wd3)\n",
        "T1_valid.append(current_seq_T1)\n",
        "T2_valid.append(current_seq_T2)\n",
        "T3_valid.append(current_seq_T3)"
      ],
      "execution_count": 36,
      "outputs": []
    },
    {
      "cell_type": "code",
      "metadata": {
        "id": "Cw_hS6vctl9s"
      },
      "source": [
        "# Define slices of 168h power inputs and corresponding targets one 1h ahead\n",
        "# Also define forecasts of wind speed, wind direction and temperature\n",
        "p_inputs, p_targets, p_targets2h, p_targets3h = [],[],[],[]\n",
        "ws1_forecast, ws2_forecast, ws3_forecast = [],[],[]\n",
        "wd1_forecast, wd2_forecast, wd3_forecast = [],[],[]\n",
        "T1_forecast, T2_forecast, T3_forecast = [],[],[]\n",
        "\n",
        "for seq in range(len(p_valid)):\n",
        "  for i in range(len(p_valid[seq])-170):\n",
        "    p_inputs.append(p_valid[seq][i:i+168])\n",
        "    p_targets.append(p_valid[seq][i+168])\n",
        "    p_targets2h.append(p_valid[seq][i+169])\n",
        "    p_targets3h.append(p_valid[seq][i+170])\n",
        "    ws1_forecast.append(ws1_valid[seq][i+168])\n",
        "    ws2_forecast.append(ws2_valid[seq][i+168])\n",
        "    ws3_forecast.append(ws3_valid[seq][i+168])\n",
        "    wd1_forecast.append(wd1_valid[seq][i+168])\n",
        "    wd2_forecast.append(wd2_valid[seq][i+168])\n",
        "    wd3_forecast.append(wd3_valid[seq][i+168])\n",
        "    T1_forecast.append(T1_valid[seq][i+168])\n",
        "    T2_forecast.append(T2_valid[seq][i+168])\n",
        "    T3_forecast.append(T3_valid[seq][i+168])"
      ],
      "execution_count": 37,
      "outputs": []
    },
    {
      "cell_type": "code",
      "metadata": {
        "id": "7HmTmwl64sTT"
      },
      "source": [
        "# One hot encode the wind directions\n",
        "wd1_forecast_onehot = []\n",
        "wd2_forecast_onehot = []\n",
        "wd3_forecast_onehot = []\n",
        "\n",
        "# For wd1\n",
        "for i in range(len(wd1_forecast)):\n",
        "  onehot = 12*[None]\n",
        "  sector = np.floor(wd1_forecast[i][0]/30)\n",
        "  for s in range(12):\n",
        "    if sector == s:\n",
        "      onehot[s] = 1\n",
        "    else:\n",
        "      onehot[s] = 0\n",
        "  wd1_forecast_onehot.append(onehot)\n",
        "\n",
        "# For wd2\n",
        "for i in range(len(wd2_forecast)):\n",
        "  onehot = 12*[None]\n",
        "  sector = np.floor(wd2_forecast[i][0]/30)\n",
        "  for s in range(12):\n",
        "    if sector == s:\n",
        "      onehot[s] = 1\n",
        "    else:\n",
        "      onehot[s] = 0\n",
        "  wd2_forecast_onehot.append(onehot)\n",
        "\n",
        "# For wd3\n",
        "for i in range(len(wd3_forecast)):\n",
        "  onehot = 12*[None]\n",
        "  sector = np.floor(wd3_forecast[i][0]/30)\n",
        "  for s in range(12):\n",
        "    if sector == s:\n",
        "      onehot[s] = 1\n",
        "    else:\n",
        "      onehot[s] = 0\n",
        "  wd3_forecast_onehot.append(onehot) "
      ],
      "execution_count": 38,
      "outputs": []
    },
    {
      "cell_type": "code",
      "metadata": {
        "id": "K5VG0FGhWI4d"
      },
      "source": [
        "# Shuffle the inputs and targets\n",
        "l = list(zip(p_inputs,p_targets,p_targets2h,p_targets3h,ws1_forecast,ws2_forecast,ws3_forecast,\n",
        "             wd1_forecast,wd2_forecast,wd3_forecast,T1_forecast,T2_forecast,T3_forecast))\n",
        "shuffle(l)\n",
        "p_inputs,p_targets,p_targets2h,p_targets3h,ws1_forecast,ws2_forecast,ws3_forecast,wd1_forecast,wd2_forecast,wd3_forecast,T1_forecast,T2_forecast,T3_forecast = zip(*l)"
      ],
      "execution_count": null,
      "outputs": []
    },
    {
      "cell_type": "code",
      "metadata": {
        "colab": {
          "base_uri": "https://localhost:8080/"
        },
        "id": "CfOhAEu0xVTr",
        "outputId": "a1d065bd-51bd-4b4f-ffca-3794e395ead6"
      },
      "source": [
        "# Define an LSTM network\n",
        "\n",
        "class MyRecurrentNet(nn.Module):\n",
        "    def __init__(self):\n",
        "        super(MyRecurrentNet, self).__init__()\n",
        "        \n",
        "        self.lstm = nn.LSTM(input_size =1,hidden_size=128, batch_first = False)        \n",
        "        self.ffnn_forecast1 = nn.Linear(in_features = 14, out_features = 512, bias = False)\n",
        "        self.ffnn_forecast2 = nn.Linear(in_features = 512, out_features = 512, bias = False)\n",
        "        \n",
        "        # Output layer\n",
        "        self.l_out = nn.Linear(in_features=512+128,\n",
        "                            out_features=1,\n",
        "                            bias=False)\n",
        "        \n",
        "    def forward(self, p_past, ws_forecast, wd_forecast, T_forecast):\n",
        "\n",
        "        # RNN returns output\n",
        "        x_rnn, (h, c) = self.lstm(p_past)\n",
        "        \n",
        "        # FNN on the wind speed forecast\n",
        "        x_ffnn = elu(self.ffnn_forecast1(torch.cat((ws_forecast,wd_forecast,T_forecast),1))) # Concatenate on dim 1, being the features, 0 is the batch samples\n",
        "        x_ffnn = elu(self.ffnn_forecast2(x_ffnn))\n",
        "\n",
        "        # Output layer on the concatenate last rnn hidden state and ffnn result\n",
        "        x = torch.cat((x_rnn[-1], x_ffnn), 1)  # Concatenate on dimension 1, 0 being the batch samples, 1 being the units\n",
        "        x = self.l_out(x)\n",
        "        \n",
        "        return x\n",
        "\n",
        "net = MyRecurrentNet()\n",
        "print(net)"
      ],
      "execution_count": 39,
      "outputs": [
        {
          "output_type": "stream",
          "name": "stdout",
          "text": [
            "MyRecurrentNet(\n",
            "  (lstm): LSTM(1, 128)\n",
            "  (ffnn_forecast1): Linear(in_features=14, out_features=512, bias=False)\n",
            "  (ffnn_forecast2): Linear(in_features=512, out_features=512, bias=False)\n",
            "  (l_out): Linear(in_features=640, out_features=1, bias=False)\n",
            ")\n"
          ]
        }
      ]
    },
    {
      "cell_type": "code",
      "metadata": {
        "id": "-KSR0vFRFTn_"
      },
      "source": [
        ""
      ],
      "execution_count": 39,
      "outputs": []
    },
    {
      "cell_type": "code",
      "metadata": {
        "colab": {
          "base_uri": "https://localhost:8080/"
        },
        "id": "h-M5ODoozyR-",
        "outputId": "f4dcf599-e4be-4d1f-e8b7-059cf6684a89"
      },
      "source": [
        "# Test of a dummy input of two sequences\n",
        "dummy = torch.tensor(list([\n",
        "                                [[1.0],[2.0],[3.0]],\n",
        "                                [[4.0],[5.0],[6.0]]\n",
        "                    ])).float()\n",
        "dummy = torch.swapaxes(dummy,0,1) # The network uses the format (Seq, Batch, Features)\n",
        "forecast_ws = torch.tensor([[1.0],[2.0]]).float()\n",
        "forecast_wd = torch.tensor([[1, 0, 0, 0, 0, 0, 0, 0, 0, 0, 0, 0],[0, 1, 0, 0, 0, 0, 0, 0, 0, 0, 0, 0]]).float()\n",
        "forecast_T = torch.tensor([[270],[300]]).float()\n",
        "net(dummy,forecast_ws,forecast_wd,forecast_T)"
      ],
      "execution_count": 40,
      "outputs": [
        {
          "output_type": "execute_result",
          "data": {
            "text/plain": [
              "tensor([[ 9.3702],\n",
              "        [10.4224]], grad_fn=<MmBackward>)"
            ]
          },
          "metadata": {},
          "execution_count": 40
        }
      ]
    },
    {
      "cell_type": "code",
      "metadata": {
        "colab": {
          "base_uri": "https://localhost:8080/"
        },
        "id": "kYXiSNGTRHLj",
        "outputId": "41bc39f1-aecf-4ea5-e93a-38311a993464"
      },
      "source": [
        "# Test the untrained network on two first sequences\n",
        "net(torch.swapaxes(torch.Tensor([p_inputs[0],p_inputs[1]]),0,1),\n",
        "    torch.Tensor([ws1_forecast[0],ws1_forecast[1]]),\n",
        "    torch.Tensor([wd1_forecast_onehot[0],wd1_forecast_onehot[1]]),\n",
        "    torch.Tensor([T1_forecast[0],T1_forecast[1]]),\n",
        "    )"
      ],
      "execution_count": 41,
      "outputs": [
        {
          "output_type": "execute_result",
          "data": {
            "text/plain": [
              "tensor([[-0.0532],\n",
              "        [-0.0532]], grad_fn=<MmBackward>)"
            ]
          },
          "metadata": {},
          "execution_count": 41
        }
      ]
    },
    {
      "cell_type": "code",
      "metadata": {
        "id": "pK-WIrQw3oXy"
      },
      "source": [
        "# Initialize the network\n",
        "net = MyRecurrentNet()\n",
        "# Convert to cuda if GPU available\n",
        "if torch.cuda.is_available():\n",
        "    print('##converting network to cuda-enabled')\n",
        "    net.cuda()\n",
        "\n",
        "# Define loss function and train parameters\n",
        "criterion = nn.MSELoss(reduction='sum')    # Sum the squares but not perform the mean\n",
        "\n",
        "# Adam gradient descent with learning rate decay\n",
        "optimizer = optim.Adam(net.parameters(), lr=1e-4)\n",
        "decayRate = 0.999\n",
        "decay_scheduler = optim.lr_scheduler.ExponentialLR(optimizer=optimizer, gamma=decayRate)\n",
        "\n",
        "# Length of the training and batches\n",
        "epochs = 40\n",
        "batch_size = 32\n",
        "num_batch = len(p_inputs)//batch_size\n",
        "\n",
        "# Function to get the batch\n",
        "get_batch = lambda i, size: range(i * size, (i + 1) * size)"
      ],
      "execution_count": 42,
      "outputs": []
    },
    {
      "cell_type": "code",
      "metadata": {
        "colab": {
          "base_uri": "https://localhost:8080/",
          "height": 977
        },
        "id": "rwtnB57XBcfC",
        "outputId": "f6c7a92a-31f9-4690-cfdd-555fcde96912"
      },
      "source": [
        "# Training\n",
        "\n",
        "# Track loss\n",
        "training_RMSE = []\n",
        "\n",
        "# Loop over epochs\n",
        "for i in range(epochs):\n",
        "\n",
        "    epoch_training_loss = 0\n",
        "\n",
        "    net.train()\n",
        "\n",
        "    # For each sequence in training set\n",
        "    for b in range(num_batch):\n",
        "\n",
        "      batch_index = get_batch(b,batch_size)\n",
        "                 \n",
        "      # Convert to tensor and swap axes of inputs to get (seq, batch, features)\n",
        "      inputs_past = torch.swapaxes(torch.Tensor(p_inputs)[batch_index],0,1)\n",
        "      inputs_forecast_ws = torch.Tensor(ws1_forecast)[batch_index]\n",
        "      inputs_forecast_wd = torch.Tensor(wd1_forecast_onehot)[batch_index]\n",
        "      inputs_forecast_T = torch.Tensor(T1_forecast)[batch_index]\n",
        "      targets = torch.Tensor(p_targets)[batch_index]\n",
        "\n",
        "      # Convert to cuda to run on GPU\n",
        "      if torch.cuda.is_available():\n",
        "            inputs_past = Variable(inputs_past.cuda())\n",
        "            inputs_forecast_ws = Variable(inputs_forecast_ws.cuda())\n",
        "            inputs_forecast_wd = Variable(inputs_forecast_wd.cuda())\n",
        "            inputs_forecast_T = Variable(inputs_forecast_T.cuda())\n",
        "            targets = Variable(targets.cuda())\n",
        "\n",
        "      # Forward pass\n",
        "      outputs = net(inputs_past,inputs_forecast_ws,inputs_forecast_wd,inputs_forecast_T)\n",
        "          \n",
        "      # Compute loss\n",
        "      loss = criterion(outputs, targets)\n",
        "          \n",
        "      # Backward pass\n",
        "      optimizer.zero_grad()\n",
        "      loss.backward()\n",
        "      optimizer.step()\n",
        "          \n",
        "      # Update loss\n",
        "      if torch.cuda.is_available():\n",
        "        epoch_training_loss += loss.cpu().detach().numpy()\n",
        "      else:\n",
        "        epoch_training_loss += loss.detach().numpy()\n",
        "    \n",
        "    # Save loss for plot\n",
        "    epoch_RMSE = np.sqrt(epoch_training_loss/(num_batch*batch_size))\n",
        "    training_RMSE.append(epoch_RMSE*p_std)  # Storing epoch RMSE and removing normalization to evaluate RMSE\n",
        "\n",
        "    # Compute confidence interval\n",
        "    CI = [norm.ppf(0.025)*training_RMSE[-1],norm.ppf(0.975)*training_RMSE[-1]]\n",
        "\n",
        "    # Print loss every 10 epochs\n",
        "    if i % 1 == 0:\n",
        "        print('Epoch %d, training RMSE: %.2f, CI: [%.2f:%.2f]' % (i+1,training_RMSE[-1],CI[0],CI[1]))\n",
        "\n",
        "    # Apply learning rate decay\n",
        "    decay_scheduler.step()\n",
        "\n",
        "# Plot training loss\n",
        "epoch = np.arange(len(training_RMSE))\n",
        "plt.figure()\n",
        "plt.plot(epoch, training_RMSE, 'r')\n",
        "plt.xlabel('Epoch'), plt.ylabel('Training RMSE')\n",
        "plt.show()"
      ],
      "execution_count": 43,
      "outputs": [
        {
          "output_type": "stream",
          "name": "stdout",
          "text": [
            "Epoch 1, training RMSE: 2.74, CI: [-5.37:5.37]\n",
            "Epoch 2, training RMSE: 1.99, CI: [-3.90:3.90]\n",
            "Epoch 3, training RMSE: 1.73, CI: [-3.40:3.40]\n",
            "Epoch 4, training RMSE: 1.62, CI: [-3.17:3.17]\n",
            "Epoch 5, training RMSE: 1.57, CI: [-3.07:3.07]\n",
            "Epoch 6, training RMSE: 1.55, CI: [-3.05:3.05]\n",
            "Epoch 7, training RMSE: 1.55, CI: [-3.03:3.03]\n",
            "Epoch 8, training RMSE: 1.54, CI: [-3.02:3.02]\n",
            "Epoch 9, training RMSE: 1.54, CI: [-3.01:3.01]\n",
            "Epoch 10, training RMSE: 1.53, CI: [-3.01:3.01]\n",
            "Epoch 11, training RMSE: 1.53, CI: [-3.00:3.00]\n",
            "Epoch 12, training RMSE: 1.53, CI: [-3.00:3.00]\n",
            "Epoch 13, training RMSE: 1.53, CI: [-3.00:3.00]\n",
            "Epoch 14, training RMSE: 1.53, CI: [-2.99:2.99]\n",
            "Epoch 15, training RMSE: 1.53, CI: [-2.99:2.99]\n",
            "Epoch 16, training RMSE: 1.52, CI: [-2.99:2.99]\n",
            "Epoch 17, training RMSE: 1.52, CI: [-2.99:2.99]\n",
            "Epoch 18, training RMSE: 1.52, CI: [-2.98:2.98]\n",
            "Epoch 19, training RMSE: 1.52, CI: [-2.98:2.98]\n",
            "Epoch 20, training RMSE: 1.52, CI: [-2.98:2.98]\n",
            "Epoch 21, training RMSE: 1.52, CI: [-2.98:2.98]\n",
            "Epoch 22, training RMSE: 1.52, CI: [-2.98:2.98]\n",
            "Epoch 23, training RMSE: 1.52, CI: [-2.98:2.98]\n",
            "Epoch 24, training RMSE: 1.52, CI: [-2.97:2.97]\n",
            "Epoch 25, training RMSE: 1.52, CI: [-2.97:2.97]\n",
            "Epoch 26, training RMSE: 1.52, CI: [-2.97:2.97]\n",
            "Epoch 27, training RMSE: 1.52, CI: [-2.97:2.97]\n",
            "Epoch 28, training RMSE: 1.52, CI: [-2.97:2.97]\n",
            "Epoch 29, training RMSE: 1.51, CI: [-2.97:2.97]\n",
            "Epoch 30, training RMSE: 1.51, CI: [-2.97:2.97]\n",
            "Epoch 31, training RMSE: 1.51, CI: [-2.97:2.97]\n",
            "Epoch 32, training RMSE: 1.51, CI: [-2.97:2.97]\n",
            "Epoch 33, training RMSE: 1.51, CI: [-2.97:2.97]\n",
            "Epoch 34, training RMSE: 1.51, CI: [-2.97:2.97]\n",
            "Epoch 35, training RMSE: 1.51, CI: [-2.96:2.96]\n",
            "Epoch 36, training RMSE: 1.51, CI: [-2.96:2.96]\n",
            "Epoch 37, training RMSE: 1.51, CI: [-2.96:2.96]\n",
            "Epoch 38, training RMSE: 1.51, CI: [-2.96:2.96]\n",
            "Epoch 39, training RMSE: 1.51, CI: [-2.96:2.96]\n",
            "Epoch 40, training RMSE: 1.51, CI: [-2.96:2.96]\n"
          ]
        },
        {
          "output_type": "display_data",
          "data": {
            "image/png": "[encoded data removed]",
            "text/plain": [
              "<Figure size 432x288 with 1 Axes>"
            ]
          },
          "metadata": {
            "needs_background": "light"
          }
        }
      ]
    },
    {
      "cell_type": "code",
      "metadata": {
        "id": "BgeS4EEXXR_7",
        "colab": {
          "base_uri": "https://localhost:8080/"
        },
        "outputId": "b85e6849-b32b-4fcb-d96a-65a682dfd9d9"
      },
      "source": [
        "# Forecasting 1, 2 and 3 hours ahead\n",
        "\n",
        "# Back on CPU\n",
        "net.to('cpu')\n",
        "\n",
        "# Store predictions and errors\n",
        "pred_1h = []\n",
        "err_1h = []\n",
        "pred_2h = []\n",
        "err_2h = []\n",
        "pred_3h = []\n",
        "err_3h = []\n",
        "\n",
        "# Loop over the sequences of valid data and ws forecast\n",
        "for seq in range(len(p_inputs)):\n",
        "\n",
        "    # Define past value for the 1h forecast\n",
        "    past = p_inputs[seq]\n",
        "    ws_forecast = ws1_forecast[seq]\n",
        "    wd_forecast = wd1_forecast_onehot[seq]\n",
        "    T_forecast = T1_forecast[seq]\n",
        "  \n",
        "    # Take output of first and only sequence, last value\n",
        "    pred_1h.append(net(torch.swapaxes(torch.Tensor([past]),0,1),torch.Tensor([ws_forecast]),torch.Tensor([wd_forecast]),torch.Tensor([T_forecast])).item())\n",
        "    err_1h.append(pred_1h[-1]-p_targets[seq][0])\n",
        "\n",
        "    # Repeat with prediction 2 hours ahead actualizing first the past values\n",
        "    past.append([pred_1h[-1]])\n",
        "    ws_forecast = ws2_forecast[seq+1]   #Take the forecast for 2h ahead (seq+1) made at least 2h before (ws2)\n",
        "    wd_forecast = wd2_forecast_onehot[seq+1]\n",
        "    T_forecast = T2_forecast[seq+1]\n",
        "    pred_2h.append(net(torch.swapaxes(torch.Tensor([past]),0,1),torch.Tensor([ws_forecast]),torch.Tensor([wd_forecast]),torch.Tensor([T_forecast])).item())\n",
        "    err_2h.append(pred_2h[-1]-p_targets2h[seq][0])\n",
        "\n",
        "    # Repeat with prediction 3 hours ahead\n",
        "    past.append([pred_2h[-1]])\n",
        "    ws_forecast = ws3_forecast[seq+2]\n",
        "    wd_forecast = wd3_forecast_onehot[seq+2]\n",
        "    T_forecast = T3_forecast[seq+2]\n",
        "    pred_3h.append(net(torch.swapaxes(torch.Tensor([past]),0,1),torch.Tensor([ws_forecast]),torch.Tensor([wd_forecast]),torch.Tensor([T_forecast])).item())\n",
        "    err_3h.append(pred_3h[-1]-p_targets3h[seq][0])\n",
        "\n",
        "    if seq % 1000 == 0:\n",
        "      print('progress %.2f %%, RMSE 1h: %.2f, RMSE 2h: %.2f, RMSE 3h: %.2f'\n",
        "           % (100*(seq+1)/len(p_inputs),\n",
        "            p_std*np.sqrt(stat.mean(err_1h[n]**2 for n in range(len(err_1h)))),\n",
        "            p_std*np.sqrt(stat.mean(err_2h[n]**2 for n in range(len(err_2h)))), \n",
        "            p_std*np.sqrt(stat.mean(err_3h[n]**2 for n in range(len(err_3h)))))\n",
        "           )"
      ],
      "execution_count": null,
      "outputs": [
        {
          "output_type": "stream",
          "name": "stdout",
          "text": [
            "progress 0.00 %, RMSE 1h: 0.35, RMSE 2h: 0.33, RMSE 3h: 0.34\n",
            "progress 2.87 %, RMSE 1h: 1.96, RMSE 2h: 2.71, RMSE 3h: 3.05\n",
            "progress 5.73 %, RMSE 1h: 1.79, RMSE 2h: 2.46, RMSE 3h: 2.79\n",
            "progress 8.59 %, RMSE 1h: 1.70, RMSE 2h: 2.42, RMSE 3h: 2.80\n",
            "progress 11.46 %, RMSE 1h: 1.66, RMSE 2h: 2.39, RMSE 3h: 2.77\n",
            "progress 14.32 %, RMSE 1h: 1.58, RMSE 2h: 2.26, RMSE 3h: 2.62\n",
            "progress 17.18 %, RMSE 1h: 1.51, RMSE 2h: 2.15, RMSE 3h: 2.48\n",
            "progress 20.04 %, RMSE 1h: 1.52, RMSE 2h: 2.18, RMSE 3h: 2.52\n",
            "progress 22.91 %, RMSE 1h: 1.61, RMSE 2h: 2.29, RMSE 3h: 2.63\n",
            "progress 25.77 %, RMSE 1h: 1.66, RMSE 2h: 2.36, RMSE 3h: 2.73\n",
            "progress 28.63 %, RMSE 1h: 1.67, RMSE 2h: 2.38, RMSE 3h: 2.75\n",
            "progress 31.50 %, RMSE 1h: 1.62, RMSE 2h: 2.32, RMSE 3h: 2.68\n",
            "progress 34.36 %, RMSE 1h: 1.62, RMSE 2h: 2.32, RMSE 3h: 2.69\n",
            "progress 37.22 %, RMSE 1h: 1.59, RMSE 2h: 2.28, RMSE 3h: 2.64\n",
            "progress 40.09 %, RMSE 1h: 1.58, RMSE 2h: 2.26, RMSE 3h: 2.62\n",
            "progress 42.95 %, RMSE 1h: 1.59, RMSE 2h: 2.27, RMSE 3h: 2.62\n",
            "progress 45.81 %, RMSE 1h: 1.59, RMSE 2h: 2.27, RMSE 3h: 2.62\n",
            "progress 48.68 %, RMSE 1h: 1.58, RMSE 2h: 2.26, RMSE 3h: 2.61\n",
            "progress 51.54 %, RMSE 1h: 1.58, RMSE 2h: 2.26, RMSE 3h: 2.60\n",
            "progress 54.40 %, RMSE 1h: 1.58, RMSE 2h: 2.25, RMSE 3h: 2.59\n",
            "progress 57.27 %, RMSE 1h: 1.57, RMSE 2h: 2.24, RMSE 3h: 2.59\n",
            "progress 60.13 %, RMSE 1h: 1.56, RMSE 2h: 2.23, RMSE 3h: 2.58\n",
            "progress 62.99 %, RMSE 1h: 1.55, RMSE 2h: 2.21, RMSE 3h: 2.56\n",
            "progress 65.85 %, RMSE 1h: 1.55, RMSE 2h: 2.21, RMSE 3h: 2.55\n",
            "progress 68.72 %, RMSE 1h: 1.54, RMSE 2h: 2.19, RMSE 3h: 2.54\n",
            "progress 71.58 %, RMSE 1h: 1.55, RMSE 2h: 2.21, RMSE 3h: 2.55\n"
          ]
        }
      ]
    },
    {
      "cell_type": "code",
      "metadata": {
        "id": "IojzG9kMY1Y3"
      },
      "source": [
        "# Estimation of confidence intervals:\n",
        "RMSE_1h = np.sqrt(stat.mean(err_1h[n]**2 for n in range(len(err_1h))))\n",
        "RMSE_2h = np.sqrt(stat.mean(err_2h[n]**2 for n in range(len(err_2h))))\n",
        "RMSE_3h = np.sqrt(stat.mean(err_3h[n]**2 for n in range(len(err_3h))))\n",
        "CI_1h = [norm.ppf(0.025)*RMSE_1h,norm.ppf(0.975)*RMSE_1h]\n",
        "CI_2h = [norm.ppf(0.025)*RMSE_2h,norm.ppf(0.975)*RMSE_2h]\n",
        "CI_3h = [norm.ppf(0.025)*RMSE_3h,norm.ppf(0.975)*RMSE_3h]\n",
        "print(f'Confidence interval 1h: {CI_1h}')\n",
        "print(f'Confidence interval 2h: {CI_2h}')\n",
        "print(f'Confidence interval 3h: {CI_3h}')"
      ],
      "execution_count": null,
      "outputs": []
    },
    {
      "cell_type": "code",
      "metadata": {
        "id": "an1NIEcvaw03"
      },
      "source": [
        "# Save the model\n",
        "torch.save(net.state_dict(),\n",
        "           '/content/drive/MyDrive/Colab Notebooks/Time series/LSTM_Klim/LSTM_power_ws_wd_T.pth')"
      ],
      "execution_count": null,
      "outputs": []
    }
  ]
}